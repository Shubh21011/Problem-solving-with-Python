{
  "nbformat": 4,
  "nbformat_minor": 0,
  "metadata": {
    "colab": {
      "provenance": [],
      "include_colab_link": true
    },
    "kernelspec": {
      "name": "python3",
      "display_name": "Python 3"
    },
    "language_info": {
      "name": "python"
    }
  },
  "cells": [
    {
      "cell_type": "markdown",
      "metadata": {
        "id": "view-in-github",
        "colab_type": "text"
      },
      "source": [
        "<a href=\"https://colab.research.google.com/github/Shubh21011/Problem-solving-with-Python/blob/main/session_6_task.ipynb\" target=\"_parent\"><img src=\"https://colab.research.google.com/assets/colab-badge.svg\" alt=\"Open In Colab\"/></a>"
      ]
    },
    {
      "cell_type": "markdown",
      "source": [
        "### **`Problem-1:`** Write a Python function that takes a list and returns a new list with unique elements of the first list.\n",
        "\n",
        "**Exercise 1:**\n",
        "\n",
        "Input:\n",
        "\n",
        "```bash\n",
        "[1,2,3,3,3,3,4,5]\n",
        "```\n",
        "\n",
        "Output:\n",
        "\n",
        "```bash\n",
        "[1, 2, 3, 4, 5]\n",
        "```"
      ],
      "metadata": {
        "id": "h6dDSW5XGZFi"
      }
    },
    {
      "cell_type": "code",
      "source": [
        "def func_unique(l):\n",
        "  res = []\n",
        "  for i in l:\n",
        "    if i not in res:\n",
        "      res.append(i)\n",
        "  return res\n",
        "\n",
        "func_unique([1,2,3,3,3,3,4,5])"
      ],
      "metadata": {
        "id": "R5pq1C9LGe1y",
        "colab": {
          "base_uri": "https://localhost:8080/"
        },
        "outputId": "50b7ccf2-4c85-41bd-ee6c-a4f22ad5b441"
      },
      "execution_count": 1,
      "outputs": [
        {
          "output_type": "execute_result",
          "data": {
            "text/plain": [
              "[1, 2, 3, 4, 5]"
            ]
          },
          "metadata": {},
          "execution_count": 1
        }
      ]
    },
    {
      "cell_type": "markdown",
      "source": [
        "### **`Problem-2:`** Write a Python function that accepts a hyphen-separated sequence of words as parameter and returns the words in a hyphen-separated sequence after sorting them alphabetically.\n",
        "\n",
        "**Example 1:**\n",
        "\n",
        "Input:\n",
        "```bash\n",
        "green-red-yellow-black-white\n",
        "```\n",
        "\n",
        "Output:\n",
        "```bash\n",
        "black-green-red-white-yellow\n",
        "```"
      ],
      "metadata": {
        "id": "UxQ_VoyJGwHj"
      }
    },
    {
      "cell_type": "code",
      "source": [
        "# Write code here\n",
        "def sort_words(s):\n",
        "  temp=[]\n",
        "  for i in sorted(s.split('-')):\n",
        "    temp.append(i)\n",
        "  return '-'.join(temp)\n",
        "sort_words('green-red-yellow-black-white')"
      ],
      "metadata": {
        "id": "AAts2m5zGwiQ",
        "colab": {
          "base_uri": "https://localhost:8080/",
          "height": 36
        },
        "outputId": "0af2971d-2078-47c8-c788-2f9a9dccd283"
      },
      "execution_count": 6,
      "outputs": [
        {
          "output_type": "execute_result",
          "data": {
            "text/plain": [
              "'black-green-red-white-yellow'"
            ],
            "application/vnd.google.colaboratory.intrinsic+json": {
              "type": "string"
            }
          },
          "metadata": {},
          "execution_count": 6
        }
      ]
    },
    {
      "cell_type": "markdown",
      "source": [
        "### **`Problem 3:`** Write a Python function that accepts a string and calculate the number of upper case letters and lower case letters.\n",
        "\n",
        "```\n",
        "Sample String : 'CampusX is an Online Mentorship Program fOr EnginEering studentS.'\n",
        "Expected Output :\n",
        "No. of Upper case characters :  9\n",
        "No. of Lower case Characters :  47\n",
        "```"
      ],
      "metadata": {
        "id": "IRGH62S7Gx_n"
      }
    },
    {
      "cell_type": "code",
      "source": [
        "# Write code here\n",
        "def find_case(s):\n",
        "  upper_cnt=0\n",
        "  lower_cnt=0\n",
        "  for i in s:\n",
        "    if i.isupper():\n",
        "      upper_cnt+=1\n",
        "    elif i.islower():\n",
        "      lower_cnt+=1\n",
        "  return upper_cnt,lower_cnt\n",
        "x,y=find_case('CampusX is an Online Mentorship Program fOr EnginEering studentS.')\n",
        "print('No. of Upper case characters : ',x)\n",
        "print('No. of Lower case Characters : ',y)\n",
        "\n"
      ],
      "metadata": {
        "id": "OaUrD8vVG5o8",
        "colab": {
          "base_uri": "https://localhost:8080/"
        },
        "outputId": "9faf0311-deaf-4f3d-8780-396e05cf3da2"
      },
      "execution_count": 7,
      "outputs": [
        {
          "output_type": "stream",
          "name": "stdout",
          "text": [
            "No. of Upper case characters :  9\n",
            "No. of Lower case Characters :  47\n"
          ]
        }
      ]
    },
    {
      "cell_type": "markdown",
      "source": [
        "### **`Problem 4:`** Write a Python program to print the even numbers from a given list.\n",
        "```\n",
        "Sample List : [1, 2, 3, 4, 5, 6, 7, 8, 9]\n",
        "Expected Result : [2, 4, 6, 8]\n",
        "```"
      ],
      "metadata": {
        "id": "V1BFFdYQG7Sn"
      }
    },
    {
      "cell_type": "code",
      "source": [
        "# Write code here\n",
        "def check_even(l):\n",
        "  l1=[]\n",
        "  for i in l:\n",
        "    if i%2==0:\n",
        "      l1.append(i)\n",
        "  return l1\n",
        "check_even([1, 2, 3, 4, 5, 6, 7, 8, 9])\n"
      ],
      "metadata": {
        "id": "VvAReLoDG_Z3",
        "colab": {
          "base_uri": "https://localhost:8080/"
        },
        "outputId": "bf91b132-3664-4228-cdd9-7b1570258539"
      },
      "execution_count": 4,
      "outputs": [
        {
          "output_type": "execute_result",
          "data": {
            "text/plain": [
              "[2, 4, 6, 8]"
            ]
          },
          "metadata": {},
          "execution_count": 4
        }
      ]
    },
    {
      "cell_type": "markdown",
      "source": [
        "### **`Problem 5:`** Write a Python function to check whether a number is perfect or not.\n",
        "\n",
        "A Perfect number is a number that is half the sum of all of its positive divisors (including itself).\n",
        "\n",
        "Example :\n",
        "\n",
        "```\n",
        "The first perfect number is 6, because 1, 2, and 3 are its proper positive divisors, and 1 + 2 + 3 = 6.\n",
        "Equivalently, the number 6 is equal to half the sum of all its positive divisors: ( 1 + 2 + 3 + 6 ) / 2 = 6.\n",
        "\n",
        "The next perfect number is 28 = 1 + 2 + 4 + 7 + 14. This is followed by the perfect numbers 496 and 8128.\n",
        "```\n"
      ],
      "metadata": {
        "id": "qrK39Gn-HHb4"
      }
    },
    {
      "cell_type": "code",
      "source": [
        "# Write code here\n",
        "def check_perfect(num):\n",
        "  sum=0\n",
        "  for i in range(1,num):\n",
        "    if num%i==0:\n",
        "      sum+=i\n",
        "  if sum== num:\n",
        "    return True\n",
        "  else:\n",
        "    return False\n",
        "check_perfect(8128)\n",
        "\n"
      ],
      "metadata": {
        "id": "P-OI7H78HICs",
        "colab": {
          "base_uri": "https://localhost:8080/"
        },
        "outputId": "c3426a57-7d8f-43d1-9dac-5d6461063cb3"
      },
      "execution_count": 9,
      "outputs": [
        {
          "output_type": "execute_result",
          "data": {
            "text/plain": [
              "True"
            ]
          },
          "metadata": {},
          "execution_count": 9
        }
      ]
    },
    {
      "cell_type": "markdown",
      "source": [
        "### **`Problem-6:`** Write a Python function to concatenate any no of dictionaries to create a new one.\n",
        "\n",
        "```\n",
        "Sample Dictionary :\n",
        "dic1={1:10, 2:20}\n",
        "dic2={3:30, 4:40}\n",
        "dic3={5:50,6:60}\n",
        "Expected Result : {1: 10, 2: 20, 3: 30, 4: 40, 5: 50, 6: 60}\n",
        "```"
      ],
      "metadata": {
        "id": "oZdpcG77HO-6"
      }
    },
    {
      "cell_type": "code",
      "source": [
        "# Write code here\n",
        "def new_dict(*kwargs):\n",
        "  d1={}\n",
        "  for i in kwargs:\n",
        "    d1.update(i)\n",
        "  return d1\n",
        "dic1={1:10, 2:20}\n",
        "dic2={3:30, 4:40}\n",
        "dic3={5:50,6:60}\n",
        "new_dict(dic1,dic2,dic3)\n"
      ],
      "metadata": {
        "id": "LQgfAY4ZHPhj",
        "colab": {
          "base_uri": "https://localhost:8080/"
        },
        "outputId": "70ab8792-7e5d-4283-8992-569bb9b9c015"
      },
      "execution_count": 9,
      "outputs": [
        {
          "output_type": "execute_result",
          "data": {
            "text/plain": [
              "{1: 10, 2: 20, 3: 30, 4: 40, 5: 50, 6: 60}"
            ]
          },
          "metadata": {},
          "execution_count": 9
        }
      ]
    },
    {
      "cell_type": "markdown",
      "source": [
        "`Problem-7` Write a python function that accepts a string as input and returns the word with most occurence.\n",
        "\n",
        "```\n",
        "Input:\n",
        "hello how are you i am fine thank you\n",
        "```\n",
        "\n",
        "```\n",
        "Output\n",
        "you -> 2\n",
        "```"
      ],
      "metadata": {
        "id": "jQ6SzbCkHRd0"
      }
    },
    {
      "cell_type": "code",
      "source": [
        "# Write code here\n",
        "def most_occurence(s):\n",
        "  d={}\n",
        "  for i in s.split():\n",
        "    if i in d:\n",
        "      d[i]+=1\n",
        "    else:\n",
        "      d[i]=1\n",
        "  max_val = max(d.values())\n",
        "  for i in d:\n",
        "    if d[i]==max_val:\n",
        "      return i,max_val\n",
        "x,y = most_occurence('hello how are you i am fine thank you')\n",
        "print(x,'->',y)\n",
        "\n"
      ],
      "metadata": {
        "id": "Lh04JHLzIW7Z",
        "colab": {
          "base_uri": "https://localhost:8080/"
        },
        "outputId": "228cf5f1-2b30-4603-e7a3-da91b992629d"
      },
      "execution_count": 11,
      "outputs": [
        {
          "output_type": "stream",
          "name": "stdout",
          "text": [
            "you -> 2\n"
          ]
        }
      ]
    },
    {
      "cell_type": "markdown",
      "source": [
        "`Problem-8` Write a python function that receives a list of integers and prints out a histogram of bin size 10\n",
        "\n",
        "```\n",
        "Input:\n",
        "[13,42,15,37,22,39,41,50]\n",
        "```\n",
        "\n",
        "```\n",
        "Output:\n",
        "{11-20:2,21-30:1,31-40:2,41-50:3}\n",
        "```"
      ],
      "metadata": {
        "id": "1r8SpVntI-IW"
      }
    },
    {
      "cell_type": "code",
      "source": [
        "# Write code here\n",
        "import math\n",
        "def histogram(l):\n",
        "    d = {}\n",
        "    max_val = max(l)\n",
        "    min_val= min(l)\n",
        "    max_bin = math.ceil(max_val/10)*10\n",
        "    min_bin = math.floor(min_val/10)*10\n",
        "    for i in range(min_bin,max_bin,10):\n",
        "      cnt=0\n",
        "      for j in l:\n",
        "            if j>=i+1 and j<=i+10:\n",
        "                cnt+=1\n",
        "      d[str(i)+'-'+str(i+10)]=cnt\n",
        "    return d\n",
        "histogram([13,42,15,37,22,39,41,50])\n",
        "\n",
        "\n",
        "\n"
      ],
      "metadata": {
        "id": "7W0J8rUjJovg",
        "colab": {
          "base_uri": "https://localhost:8080/"
        },
        "outputId": "10382ae4-efe3-4728-b7e8-3431373ea66a"
      },
      "execution_count": 14,
      "outputs": [
        {
          "output_type": "execute_result",
          "data": {
            "text/plain": [
              "{'10-20': 2, '20-30': 1, '30-40': 2, '40-50': 3}"
            ]
          },
          "metadata": {},
          "execution_count": 14
        }
      ]
    },
    {
      "cell_type": "markdown",
      "source": [
        "`Problem-9` Write a python function that accepts a list of 2D co-ordinates and a query point, and then finds the the co-ordinate which is closest in terms of distance from the query point.\n",
        "\n",
        "```\n",
        "List of Coordinates\n",
        "[(1,1),(2,2),(3,3),(4,4)]\n",
        "Query Point\n",
        "(0,0)\n",
        "```\n",
        "\n",
        "```\n",
        "Output\n",
        "Nearest to (0,0) is (1,1)\n",
        "```"
      ],
      "metadata": {
        "id": "1P2-rbgXKE53"
      }
    },
    {
      "cell_type": "code",
      "source": [
        "# Write code here\n",
        "def distance(point,query):\n",
        "  temp=[]\n",
        "  for i in point:\n",
        "    temp.append(((i[0]-query[0])**2+(i[1]-query[1])**2)**0.5)\n",
        "  return point[temp.index(min(temp))]\n",
        "distance([(1,1),(2,2),(3,3),(4,4)],(0,0))"
      ],
      "metadata": {
        "id": "zjn7vSTIJ81G",
        "colab": {
          "base_uri": "https://localhost:8080/"
        },
        "outputId": "ac1248d8-30ba-44f0-b40b-96513b0f7d91"
      },
      "execution_count": 15,
      "outputs": [
        {
          "output_type": "execute_result",
          "data": {
            "text/plain": [
              "(1, 1)"
            ]
          },
          "metadata": {},
          "execution_count": 15
        }
      ]
    },
    {
      "cell_type": "markdown",
      "source": [
        "`Problem-10`:Write a python program that receives a list of strings and performs bag of word operation on those strings\n",
        "\n",
        "https://en.wikipedia.org/wiki/Bag-of-words_model"
      ],
      "metadata": {
        "id": "i-B6igmyK9hB"
      }
    },
    {
      "cell_type": "code",
      "source": [
        "# Write code here\n",
        "def bow(l):\n",
        "  s1 = set()\n",
        "  for i in l:\n",
        "     s1.update(i.split())\n",
        "  result=[]\n",
        "  for i in l:\n",
        "    result.append([])\n",
        "    for j in s1:\n",
        "      result[-1].append(i.count(j))\n",
        "  return result\n",
        "l = [ 'cat mat rat cat',\n",
        "    'sat cat rat mat',\n",
        "    'pat cat rat mat']\n",
        "bow(l)"
      ],
      "metadata": {
        "id": "N2l1_AWULT-z",
        "colab": {
          "base_uri": "https://localhost:8080/"
        },
        "outputId": "d035a946-b3f5-4be6-b344-04ddcf0fb4a8"
      },
      "execution_count": 7,
      "outputs": [
        {
          "output_type": "execute_result",
          "data": {
            "text/plain": [
              "[[2, 0, 1, 0, 1], [1, 1, 1, 0, 1], [1, 0, 1, 1, 1]]"
            ]
          },
          "metadata": {},
          "execution_count": 7
        }
      ]
    },
    {
      "cell_type": "markdown",
      "source": [
        "###`Problem 11:` Write a Python program to add three given lists using Python map and lambda."
      ],
      "metadata": {
        "id": "dHTRKb-DqMLw"
      }
    },
    {
      "cell_type": "code",
      "source": [
        "# Write code here\n",
        "l1=[1,2,3]\n",
        "l2=[4,5,6]\n",
        "l3=[7,8,9]\n",
        "list(map(lambda x,y,z:x+y+z,l1,l2,l3))"
      ],
      "metadata": {
        "id": "NfJdzyNZqNW-",
        "colab": {
          "base_uri": "https://localhost:8080/"
        },
        "outputId": "d7afc695-858f-4a9a-b03a-3e6711ff832b"
      },
      "execution_count": 8,
      "outputs": [
        {
          "output_type": "execute_result",
          "data": {
            "text/plain": [
              "[12, 15, 18]"
            ]
          },
          "metadata": {},
          "execution_count": 8
        }
      ]
    },
    {
      "cell_type": "markdown",
      "source": [
        "###`Problem-12:`Write a Python program to create a list containing the power of said number in bases raised to the corresponding number in the index using Python map.\n",
        "`Input:`\n",
        "```\n",
        "list1 = [1,2,3,4,5,6]\n",
        "```\n",
        "`Output:`\n",
        "```\n",
        "[1,2,9,64,625,-]\n",
        "```\n"
      ],
      "metadata": {
        "id": "MgHP7mbUqO8l"
      }
    },
    {
      "cell_type": "code",
      "source": [
        "# Write code here\n",
        "list1 = [1,2,3,4,5,6]\n",
        "list(map(lambda x,y:x**y,list1,range(len(list1))))"
      ],
      "metadata": {
        "id": "gG3Dc6N3qbvN",
        "colab": {
          "base_uri": "https://localhost:8080/"
        },
        "outputId": "7baa9669-9236-4e6e-a18d-a780581719fc"
      },
      "execution_count": 9,
      "outputs": [
        {
          "output_type": "execute_result",
          "data": {
            "text/plain": [
              "[1, 2, 9, 64, 625, 7776]"
            ]
          },
          "metadata": {},
          "execution_count": 9
        }
      ]
    },
    {
      "cell_type": "markdown",
      "source": [
        "###`Problem-13` Using filter() and list() functions and .lower() method filter all the vowels in a given string.\n",
        "\n"
      ],
      "metadata": {
        "id": "G26SYq6vqdLN"
      }
    },
    {
      "cell_type": "code",
      "source": [
        "# Write code here\n",
        "s = 'CampusX is an Online Mentorship Program'\n",
        "list(filter(lambda x:True if x.lower() in ['a','e','i','o','u'] else False,s))"
      ],
      "metadata": {
        "id": "zurga3DIqmEx",
        "colab": {
          "base_uri": "https://localhost:8080/"
        },
        "outputId": "70b40814-cc6c-4292-c783-3696887e453c"
      },
      "execution_count": 10,
      "outputs": [
        {
          "output_type": "execute_result",
          "data": {
            "text/plain": [
              "['a', 'u', 'i', 'a', 'O', 'i', 'e', 'e', 'o', 'i', 'o', 'a']"
            ]
          },
          "metadata": {},
          "execution_count": 10
        }
      ]
    },
    {
      "cell_type": "markdown",
      "source": [
        "`Problem-14`: Use reduce to convert a 2D list to 1D"
      ],
      "metadata": {
        "id": "uQrsunZSqoYu"
      }
    },
    {
      "cell_type": "code",
      "source": [
        "# Write code here\n",
        "l = [\n",
        "    [1,2,3],\n",
        "    [3,4,5],\n",
        "    [5,6,7]]\n",
        "import functools\n",
        "functools.reduce(lambda x,y:x+y,l)"
      ],
      "metadata": {
        "id": "E1YUwnfgqnka",
        "colab": {
          "base_uri": "https://localhost:8080/"
        },
        "outputId": "5bd76cc5-ba4c-4f5a-a129-cb5686e7dc5e"
      },
      "execution_count": 12,
      "outputs": [
        {
          "output_type": "execute_result",
          "data": {
            "text/plain": [
              "[1, 2, 3, 3, 4, 5, 5, 6, 7]"
            ]
          },
          "metadata": {},
          "execution_count": 12
        }
      ]
    },
    {
      "cell_type": "markdown",
      "source": [
        "`Problem 15`- A dictionary contains following information about 5 employees:\n",
        "- First name\n",
        "- Last name\n",
        "- Age\n",
        "- Grade(Skilled,Semi-skilled,Highly skilled)<br>\n",
        "Write a program using map/filter/reduce to a list of employees(first name + last name) who are highly skilled"
      ],
      "metadata": {
        "id": "8-DLQEawt-_t"
      }
    },
    {
      "cell_type": "code",
      "source": [
        "# Write code here\n",
        "employees = [\n",
        "    {\n",
        "        'fname':'Nitish',\n",
        "        'lname':'Singh',\n",
        "        'age' : 33,\n",
        "        'grade':'skilled'\n",
        "    },\n",
        "    {\n",
        "        'fname':'Ankit',\n",
        "        'lname':'Verma',\n",
        "        'age' : 34,\n",
        "        'grade':'semi-skilled'\n",
        "    },\n",
        "    {\n",
        "        'fname':'Neha',\n",
        "        'lname':'Singh',\n",
        "        'age' : 35,\n",
        "        'grade':'highly-skilled'\n",
        "    },\n",
        "    {\n",
        "        'fname':'Anurag',\n",
        "        'lname':'Kumar',\n",
        "        'age' : 30,\n",
        "        'grade':'skilled'\n",
        "    },\n",
        "    {\n",
        "        'fname':'Abhinav',\n",
        "        'lname':'Sharma',\n",
        "        'age' : 37,\n",
        "        'grade':'highly-skilled'\n",
        "    }\n",
        "\n",
        "]"
      ],
      "metadata": {
        "id": "OLvptttLs6OU"
      },
      "execution_count": 14,
      "outputs": []
    },
    {
      "cell_type": "code",
      "source": [
        "l1 = list(filter(lambda x:True if x['grade']=='highly-skilled' else False,employees))\n",
        "list(map(lambda x:x['fname']+' '+x['lname'],l1))"
      ],
      "metadata": {
        "id": "vLX0FAQkui3y",
        "colab": {
          "base_uri": "https://localhost:8080/"
        },
        "outputId": "53c91b7b-da7f-4e65-83db-af3e8eb54f2f"
      },
      "execution_count": 15,
      "outputs": [
        {
          "output_type": "execute_result",
          "data": {
            "text/plain": [
              "['Neha Singh', 'Abhinav Sharma']"
            ]
          },
          "metadata": {},
          "execution_count": 15
        }
      ]
    },
    {
      "cell_type": "code",
      "source": [],
      "metadata": {
        "id": "ldMjGfkgAMr9"
      },
      "execution_count": null,
      "outputs": []
    }
  ]
}